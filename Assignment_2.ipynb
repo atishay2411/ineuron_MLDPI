{
  "nbformat": 4,
  "nbformat_minor": 0,
  "metadata": {
    "colab": {
      "name": "Assignment_2.ipynb",
      "provenance": []
    },
    "kernelspec": {
      "name": "python3",
      "display_name": "Python 3"
    }
  },
  "cells": [
    {
      "cell_type": "markdown",
      "metadata": {
        "id": "odkUCfe3W3z-"
      },
      "source": [
        "#**Assignment 2**"
      ]
    },
    {
      "cell_type": "markdown",
      "metadata": {
        "id": "TwEAyRjFXG9_"
      },
      "source": [
        "**1) Print the given pattern.**\r\n"
      ]
    },
    {
      "cell_type": "code",
      "metadata": {
        "colab": {
          "base_uri": "https://localhost:8080/"
        },
        "id": "oQFxfPMiX-Km",
        "outputId": "78326646-d936-426c-eb1b-773a0d8c8520"
      },
      "source": [
        "rows = 5\r\n",
        "for i in range(0, rows):\r\n",
        "    for j in range(0, i + 1):\r\n",
        "        print(\"*\", end=' ')\r\n",
        "    print(\"\\r\")\r\n",
        "\r\n",
        "for i in range(rows, 0, -1):\r\n",
        "    for j in range(0, i - 1):\r\n",
        "        print(\"*\", end=' ')\r\n",
        "    print(\"\\r\")"
      ],
      "execution_count": 1,
      "outputs": [
        {
          "output_type": "stream",
          "text": [
            "* \r\n",
            "* * \r\n",
            "* * * \r\n",
            "* * * * \r\n",
            "* * * * * \r\n",
            "* * * * \r\n",
            "* * * \r\n",
            "* * \r\n",
            "* \r\n",
            "\r\n"
          ],
          "name": "stdout"
        }
      ]
    },
    {
      "cell_type": "markdown",
      "metadata": {
        "id": "zxC7lT0-Y_uE"
      },
      "source": [
        "**2) Write a Python program to reverse a word after accepting the input from the user.**\r\n",
        "**Sample text**\r\n",
        "**Input word: ineuron**\r\n",
        "**Output: norueni**"
      ]
    },
    {
      "cell_type": "code",
      "metadata": {
        "colab": {
          "base_uri": "https://localhost:8080/"
        },
        "id": "QJMuZzN8ZNUK",
        "outputId": "82e7acc9-911c-43f2-eebc-2c80945fd62f"
      },
      "source": [
        "word=input(\"Enter the word\\n\")\r\n",
        "print(word[::-1])\r\n"
      ],
      "execution_count": 2,
      "outputs": [
        {
          "output_type": "stream",
          "text": [
            "Enter the word\n",
            "ineuron\n",
            "norueni\n"
          ],
          "name": "stdout"
        }
      ]
    }
  ]
}