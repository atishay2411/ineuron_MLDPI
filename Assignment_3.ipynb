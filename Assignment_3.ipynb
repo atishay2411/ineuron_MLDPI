{
  "nbformat": 4,
  "nbformat_minor": 0,
  "metadata": {
    "colab": {
      "name": "Assignment-3.ipynb",
      "provenance": []
    },
    "kernelspec": {
      "name": "python3",
      "display_name": "Python 3"
    }
  },
  "cells": [
    {
      "cell_type": "markdown",
      "metadata": {
        "id": "EVlNp3h4muPz"
      },
      "source": [
        "#**Assignment-3**"
      ]
    },
    {
      "cell_type": "markdown",
      "metadata": {
        "id": "9TDSnkRenEPT"
      },
      "source": [
        "**1.1 Write a Python Program to implement your own myreduce() function which works exactly\r\n",
        "like Python's built-in function reduce()**"
      ]
    },
    {
      "cell_type": "code",
      "metadata": {
        "colab": {
          "base_uri": "https://localhost:8080/"
        },
        "id": "UwLWC2CunGO8",
        "outputId": "87390397-9b8f-413e-8258-ee894f912fcd"
      },
      "source": [
        "def myreduce(anyfunc, sequence):\r\n",
        "  result = sequence[0] \r\n",
        "  for item in sequence[1:]:\r\n",
        "   result = anyfunc(result, item)\r\n",
        "  return result\r\n",
        "#program to add numbers in a list using myreduce function\r\n",
        "ls=[1,2,3,4]\r\n",
        "\r\n",
        "sum = myreduce(lambda x,y:x+y , ls)\r\n",
        "print(sum)"
      ],
      "execution_count": 13,
      "outputs": [
        {
          "output_type": "stream",
          "text": [
            "10\n"
          ],
          "name": "stdout"
        }
      ]
    },
    {
      "cell_type": "markdown",
      "metadata": {
        "id": "2ANnTfzAqUi8"
      },
      "source": [
        "**1.2 Write a Python program to implement your own myfilter() function which works exactly\r\n",
        "like Python's built-in function filter()**"
      ]
    },
    {
      "cell_type": "code",
      "metadata": {
        "colab": {
          "base_uri": "https://localhost:8080/"
        },
        "id": "YBWnR4ZjpWvD",
        "outputId": "0c037aae-a974-4dda-d5a5-18e2e81712b6"
      },
      "source": [
        "def myfilter(anyfunc, sequence):\r\n",
        " result = []\r\n",
        " for item in sequence:\r\n",
        "  if anyfunc(item):\r\n",
        "   result.append(item)\r\n",
        " return result\r\n",
        "#myfilter-check\r\n",
        "#python program to fiter out numbers greater than 5 from a list using myfilter function\r\n",
        "def is_greater_5(num):\r\n",
        "  return num>5\r\n",
        "\r\n",
        "ls=[1,2,3,4,5,6,7,8,9]\r\n",
        "gr_than_5 = list(myfilter(is_greater_5 , ls))\r\n",
        "print(gr_than_5)\r\n",
        "\r\n",
        "\r\n"
      ],
      "execution_count": 23,
      "outputs": [
        {
          "output_type": "stream",
          "text": [
            "[6, 7, 8, 9]\n"
          ],
          "name": "stdout"
        }
      ]
    },
    {
      "cell_type": "markdown",
      "metadata": {
        "id": "ILPkZCLyxRnU"
      },
      "source": [
        "**2. Implement List comprehensions to produce the following lists.\r\n",
        "Write List comprehensions to produce the following Lists**"
      ]
    },
    {
      "cell_type": "code",
      "metadata": {
        "colab": {
          "base_uri": "https://localhost:8080/"
        },
        "id": "5xObZpZertDg",
        "outputId": "c7c4ebe5-0a0b-4aa8-db46-6fd1b44dbd07"
      },
      "source": [
        "#['x', 'xx', 'xxx', 'xxxx', 'y', 'yy', 'yyy', 'yyyy', 'z', 'zz', 'zzz', 'zzzz']\r\n",
        "input_list = ['x','y','z']\r\n",
        "result = [ item*num for item in input_list for num in range(1,5)  ]\r\n",
        "print(str(result))"
      ],
      "execution_count": 27,
      "outputs": [
        {
          "output_type": "stream",
          "text": [
            "['x', 'xx', 'xxx', 'xxxx', 'y', 'yy', 'yyy', 'yyyy', 'z', 'zz', 'zzz', 'zzzz']\n"
          ],
          "name": "stdout"
        }
      ]
    },
    {
      "cell_type": "code",
      "metadata": {
        "colab": {
          "base_uri": "https://localhost:8080/"
        },
        "id": "IP7ICmmPxgwH",
        "outputId": "ee73ae77-39b7-4287-b8cd-74a59542c70f"
      },
      "source": [
        "#['x', 'y', 'z', 'xx', 'yy', 'zz', 'xxx', 'yyy', 'zzz', 'xxxx', 'yyyy', 'zzzz']\r\n",
        "input_ls = ['x','y','z']\r\n",
        "ls = [i*j for i in range(1,5) for j in input_ls]\r\n",
        "print(ls)"
      ],
      "execution_count": 28,
      "outputs": [
        {
          "output_type": "stream",
          "text": [
            "['x', 'y', 'z', 'xx', 'yy', 'zz', 'xxx', 'yyy', 'zzz', 'xxxx', 'yyyy', 'zzzz']\n"
          ],
          "name": "stdout"
        }
      ]
    },
    {
      "cell_type": "code",
      "metadata": {
        "colab": {
          "base_uri": "https://localhost:8080/"
        },
        "id": "P0GTf2QPyvwV",
        "outputId": "e69e6d07-e85e-48f5-e060-1ae2e799e27e"
      },
      "source": [
        "#[[2], [3], [4], [3], [4], [5], [4], [5], [6]]\r\n",
        "\r\n",
        "input_ls = [2,3,4]\r\n",
        "ls = [[i+j]  for i in input_ls for j in range(0,3)]\r\n",
        "print(ls)\r\n"
      ],
      "execution_count": 29,
      "outputs": [
        {
          "output_type": "stream",
          "text": [
            "[[2], [3], [4], [3], [4], [5], [4], [5], [6]]\n"
          ],
          "name": "stdout"
        }
      ]
    },
    {
      "cell_type": "code",
      "metadata": {
        "colab": {
          "base_uri": "https://localhost:8080/"
        },
        "id": "0u4v3Lb-z1jO",
        "outputId": "c6ad7b4e-5d91-42f9-c67b-aabddf4c81ae"
      },
      "source": [
        "[[2, 3, 4, 5], [3, 4, 5, 6], [4, 5, 6, 7], [5, 6, 7, 8]]\r\n",
        "input_ls = [2,3,4,5]\r\n",
        "ls = [[i+j for i in input_ls] for j in range(0,4)]   \r\n",
        "print(ls)\r\n"
      ],
      "execution_count": 30,
      "outputs": [
        {
          "output_type": "stream",
          "text": [
            "[[2, 3, 4, 5], [3, 4, 5, 6], [4, 5, 6, 7], [5, 6, 7, 8]]\n"
          ],
          "name": "stdout"
        }
      ]
    },
    {
      "cell_type": "code",
      "metadata": {
        "colab": {
          "base_uri": "https://localhost:8080/"
        },
        "id": "Fkg-Xszn0qfO",
        "outputId": "15938c8f-a2f0-42f0-d9ae-500216c84d33"
      },
      "source": [
        "# [(1, 1), (2, 1), (3, 1), (1, 2), (2, 2), (3, 2), (1, 3), (2, 3), (3, 3)]\r\n",
        "input_list=[1,2,3]\r\n",
        "result = [ (b,a) for a in input_list for b in input_list]\r\n",
        "print(result)"
      ],
      "execution_count": 31,
      "outputs": [
        {
          "output_type": "stream",
          "text": [
            "[(1, 1), (2, 1), (3, 1), (1, 2), (2, 2), (3, 2), (1, 3), (2, 3), (3, 3)]\n"
          ],
          "name": "stdout"
        }
      ]
    }
  ]
}